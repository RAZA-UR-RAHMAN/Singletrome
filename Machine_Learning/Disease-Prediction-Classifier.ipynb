{
 "cells": [
  {
   "cell_type": "code",
   "execution_count": null,
   "id": "68a422db",
   "metadata": {
    "executionInfo": {
     "elapsed": 1059,
     "status": "ok",
     "timestamp": 1664969899974,
     "user": {
      "displayName": "Iftikhar Ahmad Associate Professor",
      "userId": "14655798496938853703"
     },
     "user_tz": -300
    },
    "id": "d49f5da7"
   },
   "outputs": [],
   "source": [
    "import pandas as pd\n",
    "\n",
    "import numpy as np\n",
    "\n",
    "from xgboost import XGBClassifier\n",
    "\n",
    "\n",
    "from sklearn.model_selection import train_test_split\n",
    "from sklearn import preprocessing\n",
    "from sklearn import metrics\n",
    "from sklearn.metrics import accuracy_score, confusion_matrix, classification_report\n",
    "from sklearn.metrics import roc_curve, auc\n",
    "\n",
    "\n",
    "import matplotlib.pyplot as plt\n",
    "import seaborn as sns"
   ]
  },
  {
   "cell_type": "markdown",
   "id": "f24ace40",
   "metadata": {
    "id": "REyFW9Hl8jJY"
   },
   "source": [
    "# Reading the Input File\n",
    "\n",
    "- **Caution** : Before Running\n",
    "  - Change the file name, figure and model file information\n",
    "  - Change the nClasses Value"
   ]
  },
  {
   "cell_type": "code",
   "execution_count": null,
   "id": "2d0812f6",
   "metadata": {
    "executionInfo": {
     "elapsed": 8,
     "status": "ok",
     "timestamp": 1664969924120,
     "user": {
      "displayName": "Iftikhar Ahmad Associate Professor",
      "userId": "14655798496938853703"
     },
     "user_tz": -300
    },
    "id": "8b807aa5"
   },
   "outputs": [],
   "source": [
    "inputFile = 'GS103-GC-Protein-Cons-Cond.csv'\n",
    "\n",
    "label = 'GS103-GC-Protein-Condition'"
   ]
  },
  {
   "cell_type": "code",
   "execution_count": null,
   "id": "1ec875b2",
   "metadata": {
    "executionInfo": {
     "elapsed": 3,
     "status": "ok",
     "timestamp": 1664969926450,
     "user": {
      "displayName": "Iftikhar Ahmad Associate Professor",
      "userId": "14655798496938853703"
     },
     "user_tz": -300
    },
    "id": "RlhxDSc8_Tk7"
   },
   "outputs": [],
   "source": [
    "#GSE136103 Condition\n",
    "nClasses = 2"
   ]
  },
  {
   "cell_type": "code",
   "execution_count": null,
   "id": "b816f8e5",
   "metadata": {
    "colab": {
     "base_uri": "https://localhost:8080/"
    },
    "executionInfo": {
     "elapsed": 422984,
     "status": "ok",
     "timestamp": 1664970353360,
     "user": {
      "displayName": "Iftikhar Ahmad Associate Professor",
      "userId": "14655798496938853703"
     },
     "user_tz": -300
    },
    "id": "7e1233cc",
    "outputId": "21f80373-9a34-4087-e4ac-188a026792ef",
    "scrolled": true
   },
   "outputs": [],
   "source": [
    "%%time\n",
    "#df = pd.read_csv(inputFile)\n",
    "headers = [*pd.read_csv(inputFile, nrows=1)]\n",
    "\n",
    "df = pd.read_csv(inputFile, dtype= np.int8, converters={'condition':str} )\n"
   ]
  },
  {
   "cell_type": "markdown",
   "id": "6abe9c5c",
   "metadata": {
    "id": "fvyVqXGj9-2H"
   },
   "source": [
    "# Pre-Processing\n",
    "- Drop the *cell Bar Code* Column (if present)\n",
    "- Extract features (x) and Labels (y)\n",
    "- Divides the data set into train and test sets\n",
    "- Converts dummy variables of labels (y) into normal labels (only for multi class)"
   ]
  },
  {
   "cell_type": "code",
   "execution_count": null,
   "id": "51396c83",
   "metadata": {
    "colab": {
     "base_uri": "https://localhost:8080/"
    },
    "executionInfo": {
     "elapsed": 533,
     "status": "ok",
     "timestamp": 1664970377940,
     "user": {
      "displayName": "Iftikhar Ahmad Associate Professor",
      "userId": "14655798496938853703"
     },
     "user_tz": -300
    },
    "id": "gw-0AIsmk8fs",
    "outputId": "7ce47cf2-29fe-4f0b-eae3-c62594748e31",
    "scrolled": true
   },
   "outputs": [],
   "source": [
    "#Make Sure to delete all columns except the data\n",
    "if(headers[0].startswith(\"cell\")):\n",
    "  df.drop(headers[0], inplace=True, axis=1)\n",
    "\n",
    "headers = df.columns"
   ]
  },
  {
   "cell_type": "code",
   "execution_count": null,
   "id": "5d8b8dec",
   "metadata": {
    "colab": {
     "base_uri": "https://localhost:8080/"
    },
    "executionInfo": {
     "elapsed": 1564,
     "status": "ok",
     "timestamp": 1664970382849,
     "user": {
      "displayName": "Iftikhar Ahmad Associate Professor",
      "userId": "14655798496938853703"
     },
     "user_tz": -300
    },
    "id": "eff1bee7",
    "outputId": "0a402b6c-7b74-4640-df2a-e61a457c90b2"
   },
   "outputs": [],
   "source": [
    "# Extract features \n",
    "x_columns = df.columns.drop('condition')\n",
    "\n",
    "x = df[x_columns].values\n",
    "#extracting the labels\n",
    "y = df['condition'].values"
   ]
  },
  {
   "cell_type": "code",
   "execution_count": null,
   "id": "02182cfa",
   "metadata": {
    "colab": {
     "base_uri": "https://localhost:8080/"
    },
    "executionInfo": {
     "elapsed": 14930,
     "status": "ok",
     "timestamp": 1664970407180,
     "user": {
      "displayName": "Iftikhar Ahmad Associate Professor",
      "userId": "14655798496938853703"
     },
     "user_tz": -300
    },
    "id": "975da89c",
    "outputId": "f17064a0-6242-4804-d9bf-25d08bdf2959"
   },
   "outputs": [],
   "source": [
    "# Split into train/test\n",
    "\n",
    "x_train, x_test, y_train,y_test= train_test_split(x, y, test_size=0.2, random_state=42, stratify=y)"
   ]
  },
  {
   "cell_type": "markdown",
   "id": "bcee04c0",
   "metadata": {
    "id": "ZBXei8_UpV4_"
   },
   "source": [
    "# Model Development\n",
    "\n",
    "- Initializes the model based on specific values\n",
    "- Fits/train the model"
   ]
  },
  {
   "cell_type": "code",
   "execution_count": null,
   "id": "5bc0a1fb",
   "metadata": {},
   "outputs": [],
   "source": [
    "from sklearn.preprocessing import LabelEncoder\n",
    "\n",
    "le = LabelEncoder()\n",
    "\n",
    "y_test_le = le.fit_transform(y_test)\n",
    "y_train_le = le.fit_transform(y_train)"
   ]
  },
  {
   "cell_type": "code",
   "execution_count": null,
   "id": "761fffe5",
   "metadata": {
    "colab": {
     "base_uri": "https://localhost:8080/"
    },
    "executionInfo": {
     "elapsed": 388073,
     "status": "ok",
     "timestamp": 1664970820094,
     "user": {
      "displayName": "Iftikhar Ahmad Associate Professor",
      "userId": "14655798496938853703"
     },
     "user_tz": -300
    },
    "id": "87b61eb6",
    "outputId": "4cc05163-8921-4dc2-8533-98840ab97b1d",
    "scrolled": true
   },
   "outputs": [],
   "source": [
    "%%time\n",
    "\n",
    "model = XGBClassifier(n_estimators = 400, objective='binary:logistic', learning_rate=0.1, \n",
    "                      nthread=1, subsample=0.75, max_depth=25, verbosity=3, tree_method=\"hist\")\n",
    "\n",
    "model.fit(x_train, y_train_le)"
   ]
  },
  {
   "cell_type": "code",
   "execution_count": null,
   "id": "7fb0773e",
   "metadata": {
    "colab": {
     "base_uri": "https://localhost:8080/"
    },
    "executionInfo": {
     "elapsed": 2512,
     "status": "ok",
     "timestamp": 1664970867797,
     "user": {
      "displayName": "Iftikhar Ahmad Associate Professor",
      "userId": "14655798496938853703"
     },
     "user_tz": -300
    },
    "id": "04k8Lm1T-I7b",
    "outputId": "20ade32b-131f-4196-94b8-8edb2056b390"
   },
   "outputs": [],
   "source": [
    "y_pred_le = model.predict(x_test)\n",
    "\n",
    "y_pred = le.inverse_transform(y_pred_le)\n",
    "\n",
    "acc = metrics.accuracy_score(y_test, y_pred)\n",
    "print(acc)\n"
   ]
  },
  {
   "cell_type": "markdown",
   "id": "dd9c9935",
   "metadata": {
    "id": "PBkubTXm-7Vd"
   },
   "source": [
    "# Model Evaluation\n",
    "\n",
    "- Calculates the following metrics\n",
    "  - TPs, TNs, FPs, FNs\n",
    "  - Accuracy\n",
    "  - Specificity\n",
    "  - Recall (Sensitivity)\n",
    "  - Precision\n",
    "  - F1 Score"
   ]
  },
  {
   "cell_type": "code",
   "execution_count": null,
   "id": "ed27bdb6",
   "metadata": {
    "colab": {
     "base_uri": "https://localhost:8080/"
    },
    "executionInfo": {
     "elapsed": 417,
     "status": "ok",
     "timestamp": 1664971023312,
     "user": {
      "displayName": "Iftikhar Ahmad Associate Professor",
      "userId": "14655798496938853703"
     },
     "user_tz": -300
    },
    "id": "N_abQmtGyG1e",
    "outputId": "bd0ac7b9-4143-45b9-fdac-affbfef57d3d"
   },
   "outputs": [],
   "source": [
    "# confusion Matrix\n",
    "cf = metrics.confusion_matrix(y_test, y_pred)\n",
    "\n",
    "cf"
   ]
  },
  {
   "cell_type": "code",
   "execution_count": null,
   "id": "6cf9f961",
   "metadata": {
    "colab": {
     "background_save": true,
     "base_uri": "https://localhost:8080/"
    },
    "executionInfo": {
     "elapsed": 33,
     "status": "ok",
     "timestamp": 1664967181110,
     "user": {
      "displayName": "Iftikhar Ahmad Associate Professor",
      "userId": "14655798496938853703"
     },
     "user_tz": -300
    },
    "id": "l2AGbicv3RdG"
   },
   "outputs": [],
   "source": [
    "\n",
    "tn, fp, fn, tp = confusion_matrix(y_test, y_pred).ravel()\n",
    "\n",
    "print(tp)\n",
    "print(tn)\n",
    "print(fp)\n",
    "print(fn)"
   ]
  },
  {
   "cell_type": "code",
   "execution_count": null,
   "id": "add1874e",
   "metadata": {
    "colab": {
     "base_uri": "https://localhost:8080/"
    },
    "executionInfo": {
     "elapsed": 26,
     "status": "ok",
     "timestamp": 1664967181110,
     "user": {
      "displayName": "Iftikhar Ahmad Associate Professor",
      "userId": "14655798496938853703"
     },
     "user_tz": -300
    },
    "id": "PULoF7FPU06r",
    "outputId": "a5cc85c5-aed5-47eb-f44a-fd81762ff74c"
   },
   "outputs": [],
   "source": [
    "## Calculates the Accuracy, Specifity, Precision, Sensitivity (Recall) and F1 score\n",
    "\n",
    "\n",
    "# Specificity\n",
    "specificity = tn / (tn + fp)\n",
    "\n",
    "#specificity = sum(spec) / len(spec)\n",
    "\n",
    "acc = metrics.accuracy_score(y_test, y_pred)\n",
    "prec = metrics.precision_score(y_test, y_pred, average='macro')\n",
    "rec  = metrics.recall_score(y_test, y_pred, average='macro')\n",
    "f1 = metrics.f1_score(y_test, y_pred, average='macro')\n"
   ]
  },
  {
   "cell_type": "markdown",
   "id": "2fbd29cc",
   "metadata": {
    "id": "oCF9vLbGBiyo"
   },
   "source": [
    "# Confusion Matrix\n",
    "  - Creates the confusion matrix\n",
    "  - Draws the confusion matrix\n",
    "  - Saves the confusion matrix as csv, png, and pdf files"
   ]
  },
  {
   "cell_type": "code",
   "execution_count": null,
   "id": "79ed66e8",
   "metadata": {
    "colab": {
     "base_uri": "https://localhost:8080/",
     "height": 550
    },
    "executionInfo": {
     "elapsed": 20507,
     "status": "ok",
     "timestamp": 1664967201595,
     "user": {
      "displayName": "Iftikhar Ahmad Associate Professor",
      "userId": "14655798496938853703"
     },
     "user_tz": -300
    },
    "id": "9e32fa11",
    "outputId": "c3d2f6f1-2873-47b4-be65-ff7a6f2fa274",
    "scrolled": true
   },
   "outputs": [],
   "source": [
    "# Builds the confusion matrix\n",
    "\n",
    "matrix = confusion_matrix(y_test, y_pred)\n",
    "\n",
    "# Build the plot\n",
    "plt.figure(figsize=(20,7))\n",
    "sns.set(font_scale=1.4)\n",
    "sns.heatmap(matrix, annot=True, annot_kws={'size':14},\n",
    "            cmap=plt.cm.Greens, linewidths=0.2, fmt=\".0f\")\n",
    "\n",
    "\n",
    "# Add labels to the plot\n",
    "class_names = np.unique(y_test)\n",
    "tick_marks = np.arange(len(class_names))\n",
    "tick_marks2 = tick_marks + 0.5\n",
    "plt.xticks(tick_marks, class_names, rotation=0)\n",
    "plt.yticks(tick_marks2, class_names, rotation=0)\n",
    "plt.xlabel('Predicted Label')\n",
    "plt.ylabel('True Label')\n",
    "plt.title(\"%s  (Accuracy : %.2f %%)\" % (label, acc*100))\n",
    "\n",
    "plt.draw()\n",
    "plt.savefig(graphFile+\"_CM.png\", dpi =900, bbox_inches = 'tight')\n",
    "plt.savefig(graphFile+\"_CM.pdf\", dpi =900, bbox_inches = 'tight')\n",
    "plt.show()\n",
    "#plt.close()"
   ]
  },
  {
   "cell_type": "code",
   "execution_count": null,
   "id": "2bb756d3",
   "metadata": {},
   "outputs": [],
   "source": [
    "%%time\n",
    "y_prob = model.predict_proba(x_test)\n",
    "\n",
    "fpr, tpr, _ = roc_curve(y_test_le, y_prob[:,1])\n",
    "roc_auc = auc(fpr, tpr)"
   ]
  },
  {
   "cell_type": "code",
   "execution_count": null,
   "id": "3304e5b5",
   "metadata": {
    "id": "oDsP0uaF30Xm"
   },
   "outputs": [],
   "source": [
    "y_prob = model.predict_proba(x_test)\n",
    "\n",
    "fpr, tpr, thresh = roc_curve(y_test_le, y_prob[:,1])\n",
    "roc_auc = auc(fpr, tpr)\n",
    "\n",
    "plt.figure(figsize=(20,10))\n",
    "\n",
    "plt.plot(fpr, tpr)\n",
    "    \n",
    "plt.plot([0, 1], [0, 1], 'k--')\n",
    "plt.xlim([0.0, 1.0])\n",
    "plt.ylim([0.0, 1.05])\n",
    "plt.xlabel('False Positive Rate')\n",
    "plt.ylabel('True Positive Rate')\n",
    "plt.title('ROC Curve :' + label)\n",
    "plt.legend(loc=\"lower right\")\n",
    "\n",
    "plt.draw()\n",
    "plt.show()"
   ]
  }
 ],
 "metadata": {
  "accelerator": "GPU",
  "colab": {
   "collapsed_sections": [],
   "machine_shape": "hm",
   "name": "",
   "provenance": [
    {
     "file_id": "1MOD-7WOBguCCUogAKaol9Olf1uyVRwDF",
     "timestamp": 1664967436684
    },
    {
     "file_id": "16f9Ko2ZlICUm8n_q8POr44sTM0LrMKxA",
     "timestamp": 1664635693710
    },
    {
     "file_id": "1bD3vCOqJlztvTVxnuRjJ9EHluYcc3Eny",
     "timestamp": 1664451334001
    },
    {
     "file_id": "1IVWduriJBPvJ1zeMvQX2ZRh4lbyWf97w",
     "timestamp": 1664340609537
    }
   ],
   "version": ""
  },
  "gpuClass": "standard",
  "kernelspec": {
   "display_name": "Python 3 (ipykernel)",
   "language": "python",
   "name": "python3"
  },
  "language_info": {
   "codemirror_mode": {
    "name": "ipython",
    "version": 3
   },
   "file_extension": ".py",
   "mimetype": "text/x-python",
   "name": "python",
   "nbconvert_exporter": "python",
   "pygments_lexer": "ipython3",
   "version": "3.10.7"
  }
 },
 "nbformat": 4,
 "nbformat_minor": 5
}
