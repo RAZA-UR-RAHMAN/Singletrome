{
 "cells": [
  {
   "cell_type": "code",
   "execution_count": null,
   "id": "d49f5da7",
   "metadata": {
    "id": "d49f5da7"
   },
   "outputs": [],
   "source": [
    "import pandas as pd\n",
    "\n",
    "import numpy as np\n",
    "\n",
    "from xgboost import XGBClassifier\n",
    "\n",
    "\n",
    "from sklearn.model_selection import train_test_split\n",
    "from sklearn import preprocessing\n",
    "from sklearn import metrics\n",
    "from sklearn.metrics import accuracy_score, confusion_matrix, classification_report\n",
    "from sklearn.metrics import roc_curve, auc\n",
    "\n",
    "\n",
    "import matplotlib.pyplot as plt\n",
    "import seaborn as sns\n",
    "\n",
    "import gc"
   ]
  },
  {
   "cell_type": "markdown",
   "id": "REyFW9Hl8jJY",
   "metadata": {
    "id": "REyFW9Hl8jJY"
   },
   "source": [
    "# Reading the Input File\n",
    "\n",
    "- **Caution** : Before Running\n",
    "  - Change the file name, figure and model file information\n",
    "  - Change the nClasses Value"
   ]
  },
  {
   "cell_type": "code",
   "execution_count": null,
   "id": "8b807aa5",
   "metadata": {
    "executionInfo": {
     "elapsed": 352,
     "status": "ok",
     "timestamp": 1664966963987,
     "user": {
      "displayName": "Iftikhar Ahmad Associate Professor",
      "userId": "14655798496938853703"
     },
     "user_tz": -300
    },
    "id": "8b807aa5"
   },
   "outputs": [],
   "source": [
    "inputFile = 'pbmc_10k_v3-GC-Protein-Consolidated-Abridged-Dummy.csv'\n",
    "\n",
    "label = 'pbmc-GC-Protein-CompleteClasses-CellType'"
   ]
  },
  {
   "cell_type": "code",
   "execution_count": null,
   "id": "RlhxDSc8_Tk7",
   "metadata": {
    "executionInfo": {
     "elapsed": 4,
     "status": "ok",
     "timestamp": 1664966964544,
     "user": {
      "displayName": "Iftikhar Ahmad Associate Professor",
      "userId": "14655798496938853703"
     },
     "user_tz": -300
    },
    "id": "RlhxDSc8_Tk7"
   },
   "outputs": [],
   "source": [
    "#GSE115469  Classes Complete Classes\n",
    "#nClasses = 20\n",
    "\n",
    "#GSE115469  Classes Merged Classes\n",
    "#nClasses = 11\n",
    "\n",
    "#PBMC  Classes\n",
    "nClasses = 13\n",
    "\n",
    "#GSE136103 CellType\n",
    "#nClasses = 12"
   ]
  },
  {
   "cell_type": "code",
   "execution_count": null,
   "id": "7e1233cc",
   "metadata": {
    "colab": {
     "base_uri": "https://localhost:8080/"
    },
    "executionInfo": {
     "elapsed": 28760,
     "status": "ok",
     "timestamp": 1664966993301,
     "user": {
      "displayName": "Iftikhar Ahmad Associate Professor",
      "userId": "14655798496938853703"
     },
     "user_tz": -300
    },
    "id": "7e1233cc",
    "outputId": "9a1cad10-9048-4158-fd28-5c10944d4f0d"
   },
   "outputs": [],
   "source": [
    "headers = [*pd.read_csv(inputFile, nrows=1)]\n",
    "print(headers[0])\n",
    "\n",
    "if(headers[0].startswith(\"cell\")):\n",
    "  df = pd.read_csv(inputFile, dtype= np.int8, converters={headers[0]:str} )\n",
    "else:\n",
    "  df = pd.read_csv(inputFile, dtype= np.int8)"
   ]
  },
  {
   "cell_type": "code",
   "execution_count": null,
   "id": "84d5c7a1",
   "metadata": {
    "colab": {
     "base_uri": "https://localhost:8080/",
     "height": 421
    },
    "executionInfo": {
     "elapsed": 41,
     "status": "ok",
     "timestamp": 1664966993301,
     "user": {
      "displayName": "Iftikhar Ahmad Associate Professor",
      "userId": "14655798496938853703"
     },
     "user_tz": -300
    },
    "id": "84d5c7a1",
    "outputId": "b44c7097-0872-46a6-c6da-6788ab7a8b39"
   },
   "outputs": [],
   "source": [
    "print(df.shape)\n",
    "df.head()"
   ]
  },
  {
   "cell_type": "markdown",
   "id": "fvyVqXGj9-2H",
   "metadata": {
    "id": "fvyVqXGj9-2H"
   },
   "source": [
    "# Pre-Processing\n",
    "- Drop the *cell Bar Code* Column (if present)\n",
    "- Extract features (x) and Labels (y)\n",
    "- Divides the data set into train and test sets\n",
    "- Converts dummy variables of labels (y) into normal labels"
   ]
  },
  {
   "cell_type": "code",
   "execution_count": null,
   "id": "gw-0AIsmk8fs",
   "metadata": {
    "colab": {
     "base_uri": "https://localhost:8080/"
    },
    "executionInfo": {
     "elapsed": 36,
     "status": "ok",
     "timestamp": 1664966993302,
     "user": {
      "displayName": "Iftikhar Ahmad Associate Professor",
      "userId": "14655798496938853703"
     },
     "user_tz": -300
    },
    "id": "gw-0AIsmk8fs",
    "outputId": "2fbca60d-2fb9-4e28-e68a-6d0a5b0b1bca"
   },
   "outputs": [],
   "source": [
    "if(headers[0].startswith(\"cell\")):\n",
    "  df.drop(headers[0], inplace=True, axis=1)\n",
    "\n",
    "headers = df.columns"
   ]
  },
  {
   "cell_type": "code",
   "execution_count": null,
   "id": "pWtVlZ6q-bUu",
   "metadata": {
    "colab": {
     "base_uri": "https://localhost:8080/"
    },
    "executionInfo": {
     "elapsed": 33,
     "status": "ok",
     "timestamp": 1664966993303,
     "user": {
      "displayName": "Iftikhar Ahmad Associate Professor",
      "userId": "14655798496938853703"
     },
     "user_tz": -300
    },
    "id": "pWtVlZ6q-bUu",
    "outputId": "c7dc98df-49ca-48ca-c7a5-29bc0f848107"
   },
   "outputs": [],
   "source": [
    "label_cols = df.columns[-nClasses:]\n",
    "label_cols"
   ]
  },
  {
   "cell_type": "code",
   "execution_count": null,
   "id": "eff1bee7",
   "metadata": {
    "colab": {
     "base_uri": "https://localhost:8080/"
    },
    "executionInfo": {
     "elapsed": 31,
     "status": "ok",
     "timestamp": 1664966993304,
     "user": {
      "displayName": "Iftikhar Ahmad Associate Professor",
      "userId": "14655798496938853703"
     },
     "user_tz": -300
    },
    "id": "eff1bee7",
    "outputId": "b79c9ade-1844-4ed7-bb33-76803210d73b"
   },
   "outputs": [],
   "source": [
    "%%time\n",
    "# Extract features \n",
    "x_columns = df.columns.drop(label_cols)\n",
    "\n",
    "x = df[x_columns].values\n",
    "#extracting the labels\n",
    "y = df[label_cols].to_numpy()"
   ]
  },
  {
   "cell_type": "code",
   "execution_count": null,
   "id": "975da89c",
   "metadata": {
    "colab": {
     "base_uri": "https://localhost:8080/"
    },
    "executionInfo": {
     "elapsed": 3495,
     "status": "ok",
     "timestamp": 1664966996776,
     "user": {
      "displayName": "Iftikhar Ahmad Associate Professor",
      "userId": "14655798496938853703"
     },
     "user_tz": -300
    },
    "id": "975da89c",
    "outputId": "5353cea7-6343-4297-af48-c294bcd1048b"
   },
   "outputs": [],
   "source": [
    "%%time\n",
    "# Split into train/test\n",
    "\n",
    "x_train, x_test, y_train_dummies,y_test_dummies = train_test_split(x, y, test_size=0.2, random_state=42, stratify=y)\n",
    "\n",
    "y_train_label = np.argmax(y_train_dummies, axis=1)\n",
    "y_test_label = np.argmax(y_test_dummies, axis=1)"
   ]
  },
  {
   "cell_type": "code",
   "execution_count": null,
   "id": "7409c1c6",
   "metadata": {},
   "outputs": [],
   "source": [
    "del df\n",
    "gc.collect()"
   ]
  },
  {
   "cell_type": "markdown",
   "id": "ZBXei8_UpV4_",
   "metadata": {
    "id": "ZBXei8_UpV4_"
   },
   "source": [
    "# Model Development\n",
    "\n",
    "- Initializes the model based on specific values\n",
    "- Fits/train the model"
   ]
  },
  {
   "cell_type": "code",
   "execution_count": null,
   "id": "87b61eb6",
   "metadata": {
    "colab": {
     "base_uri": "https://localhost:8080/"
    },
    "executionInfo": {
     "elapsed": 184348,
     "status": "ok",
     "timestamp": 1664967181108,
     "user": {
      "displayName": "Iftikhar Ahmad Associate Professor",
      "userId": "14655798496938853703"
     },
     "user_tz": -300
    },
    "id": "87b61eb6",
    "outputId": "2015030d-65ce-4e42-8637-ac73bdad34a0"
   },
   "outputs": [],
   "source": [
    "%%time\n",
    "\n",
    "model = XGBClassifier(n_estimators = 25, objective='multi:softmax', nthread=4,\n",
    "                      max_depth=25, num_class=nClasses, verbosity=1, tree_method=\"hist\")\n",
    "\n",
    "model.fit(x_train, y_train_label)  \n",
    "\n",
    "y_pred_label = model.predict(x_test)\n",
    "acc = metrics.accuracy_score(y_test_label, y_pred_label)\n",
    "print(acc)"
   ]
  },
  {
   "cell_type": "markdown",
   "id": "PBkubTXm-7Vd",
   "metadata": {
    "id": "PBkubTXm-7Vd"
   },
   "source": [
    "# Model Evaluation\n",
    "\n",
    "- Calculates the following metrics\n",
    "  - TPs, TNs, FPs, FNs\n",
    "  - Accuracy\n",
    "  - Specificity\n",
    "  - Recall (Sensitivity)\n",
    "  - Precision\n",
    "  - F1 Score"
   ]
  },
  {
   "cell_type": "code",
   "execution_count": null,
   "id": "N_abQmtGyG1e",
   "metadata": {
    "executionInfo": {
     "elapsed": 33,
     "status": "ok",
     "timestamp": 1664967181109,
     "user": {
      "displayName": "Iftikhar Ahmad Associate Professor",
      "userId": "14655798496938853703"
     },
     "user_tz": -300
    },
    "id": "N_abQmtGyG1e"
   },
   "outputs": [],
   "source": [
    "y_pred_dummies = pd.get_dummies(y_pred_label)\n",
    "y_pred_dummies = y_pred_dummies.to_numpy()\n",
    "\n",
    "mcm = metrics.multilabel_confusion_matrix(y_test_dummies, y_pred_dummies)\n",
    "acc = metrics.accuracy_score(y_test_dummies, y_pred_dummies)"
   ]
  },
  {
   "cell_type": "code",
   "execution_count": null,
   "id": "l2AGbicv3RdG",
   "metadata": {
    "colab": {
     "base_uri": "https://localhost:8080/"
    },
    "executionInfo": {
     "elapsed": 33,
     "status": "ok",
     "timestamp": 1664967181110,
     "user": {
      "displayName": "Iftikhar Ahmad Associate Professor",
      "userId": "14655798496938853703"
     },
     "user_tz": -300
    },
    "id": "l2AGbicv3RdG",
    "outputId": "06259f53-c3b0-4d49-8a74-98acc41f867d"
   },
   "outputs": [],
   "source": [
    "tn = mcm[:, 0, 0]\n",
    "tp = mcm[:, 1, 1]\n",
    "fn = mcm[:, 1, 0]\n",
    "fp = mcm[:, 0, 1]"
   ]
  },
  {
   "cell_type": "code",
   "execution_count": null,
   "id": "PULoF7FPU06r",
   "metadata": {
    "colab": {
     "base_uri": "https://localhost:8080/"
    },
    "executionInfo": {
     "elapsed": 26,
     "status": "ok",
     "timestamp": 1664967181110,
     "user": {
      "displayName": "Iftikhar Ahmad Associate Professor",
      "userId": "14655798496938853703"
     },
     "user_tz": -300
    },
    "id": "PULoF7FPU06r",
    "outputId": "a5cc85c5-aed5-47eb-f44a-fd81762ff74c"
   },
   "outputs": [],
   "source": [
    "## Calculates the Accuracy, Specifity, Precision, Sensitivity (Recall) and F1 score\n",
    "\n",
    "# Specificity\n",
    "spec = tn / (tn + fp)\n",
    "specificity = sum(spec) / len(spec)\n",
    "\n",
    "acc = metrics.accuracy_score(y_test_label, y_pred_label)\n",
    "prec = metrics.precision_score(y_test_label, y_pred_label, average='macro')\n",
    "rec  = metrics.recall_score(y_test_label, y_pred_label, average='macro')\n",
    "f1 = metrics.f1_score(y_test_label, y_pred_label, average='macro')\n",
    "\n",
    "print(\"Accuracy score: {}\".format(acc))\n",
    "print(\"Prec score: {}\".format(prec))\n",
    "print(\"Recall score: {}\".format(rec))\n",
    "print(\"F1 score: {}\".format(f1))\n",
    "print(\"Specifity score: {}\".format(specificity))"
   ]
  },
  {
   "cell_type": "markdown",
   "id": "oCF9vLbGBiyo",
   "metadata": {
    "id": "oCF9vLbGBiyo"
   },
   "source": [
    "# Confusion Matrix\n",
    "  - Creates the confusion matrix\n",
    "  - Draws the confusion matrix\n",
    "  - Saves the confusion matrix as csv, png, and pdf files"
   ]
  },
  {
   "cell_type": "code",
   "execution_count": null,
   "id": "9e32fa11",
   "metadata": {
    "colab": {
     "base_uri": "https://localhost:8080/",
     "height": 550
    },
    "executionInfo": {
     "elapsed": 20507,
     "status": "ok",
     "timestamp": 1664967201595,
     "user": {
      "displayName": "Iftikhar Ahmad Associate Professor",
      "userId": "14655798496938853703"
     },
     "user_tz": -300
    },
    "id": "9e32fa11",
    "outputId": "c3d2f6f1-2873-47b4-be65-ff7a6f2fa274",
    "scrolled": true
   },
   "outputs": [],
   "source": [
    "# Builds the confusion matrix\n",
    "matrix = confusion_matrix(y_test_label, y_pred_label)\n",
    "\n",
    "\n",
    "# Build the plot\n",
    "plt.figure(figsize=(20,7))\n",
    "sns.set(font_scale=1.4)\n",
    "sns.heatmap(matrix, annot=True, annot_kws={'size':14},\n",
    "            cmap=plt.cm.Greens, linewidths=0.2, fmt=\".0f\")\n",
    "\n",
    "\n",
    "# Add labels to the plot\n",
    "class_names = label_cols\n",
    "tick_marks = np.arange(len(class_names))\n",
    "tick_marks2 = tick_marks + 0.5\n",
    "plt.xticks(tick_marks, class_names, rotation=25)\n",
    "plt.yticks(tick_marks2, class_names, rotation=0)\n",
    "plt.xlabel('Predicted Label')\n",
    "plt.ylabel('True Label')\n",
    "\n",
    "plt.title(\"%s  (Accuracy : %.2f %%)\" % (label, acc*100))\n",
    "\n",
    "plt.draw()\n",
    "plt.show()\n",
    "#plt.close()"
   ]
  },
  {
   "cell_type": "code",
   "execution_count": null,
   "id": "IfbCOf1-pfDv",
   "metadata": {
    "colab": {
     "base_uri": "https://localhost:8080/",
     "height": 641
    },
    "executionInfo": {
     "elapsed": 21410,
     "status": "ok",
     "timestamp": 1664967222984,
     "user": {
      "displayName": "Iftikhar Ahmad Associate Professor",
      "userId": "14655798496938853703"
     },
     "user_tz": -300
    },
    "id": "IfbCOf1-pfDv",
    "outputId": "c46714d4-8b48-4df2-f984-0e99b3091ad7"
   },
   "outputs": [],
   "source": [
    "# Plot all ROC curves\n",
    "\n",
    "# Compute ROC curve and ROC area for each class\n",
    "fpr = dict()\n",
    "tpr = dict()\n",
    "roc_auc = dict()\n",
    "\n",
    "plt.figure(figsize=(20,10))\n",
    "\n",
    "for i in range(nClasses):\n",
    "    fpr[i], tpr[i], _ = roc_curve(y_test_dummies[:, i], y_pred_dummies[:, i])\n",
    "    roc_auc[i] = auc(fpr[i], tpr[i])\n",
    "\n",
    "# Plot of a ROC curve for a specific class\n",
    "for i in range(nClasses):\n",
    "    plt.plot(fpr[i], tpr[i], label='ROC Curve for %s (AUC = %0.2f)' % (label_cols[i], roc_auc[i]))\n",
    "    \n",
    "plt.plot([0, 1], [0, 1], 'k--')\n",
    "plt.xlim([0.0, 1.0])\n",
    "plt.ylim([0.0, 1.05])\n",
    "plt.xlabel('False Positive Rate')\n",
    "plt.ylabel('True Positive Rate')\n",
    "plt.title('ROC Curve :' + label)\n",
    "plt.legend(loc=\"lower right\")\n",
    "\n",
    "plt.draw()\n",
    "plt.show()"
   ]
  }
 ],
 "metadata": {
  "colab": {
   "collapsed_sections": [],
   "machine_shape": "hm",
   "provenance": [
    {
     "file_id": "16f9Ko2ZlICUm8n_q8POr44sTM0LrMKxA",
     "timestamp": 1664635693710
    },
    {
     "file_id": "1bD3vCOqJlztvTVxnuRjJ9EHluYcc3Eny",
     "timestamp": 1664451334001
    },
    {
     "file_id": "1IVWduriJBPvJ1zeMvQX2ZRh4lbyWf97w",
     "timestamp": 1664340609537
    }
   ]
  },
  "gpuClass": "standard",
  "kernelspec": {
   "display_name": "Python 3 (ipykernel)",
   "language": "python",
   "name": "python3"
  },
  "language_info": {
   "codemirror_mode": {
    "name": "ipython",
    "version": 3
   },
   "file_extension": ".py",
   "mimetype": "text/x-python",
   "name": "python",
   "nbconvert_exporter": "python",
   "pygments_lexer": "ipython3",
   "version": "3.10.7"
  }
 },
 "nbformat": 4,
 "nbformat_minor": 5
}
