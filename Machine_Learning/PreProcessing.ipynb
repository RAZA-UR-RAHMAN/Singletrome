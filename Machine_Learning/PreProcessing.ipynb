{
 "cells": [
  {
   "cell_type": "markdown",
   "id": "017bd711",
   "metadata": {},
   "source": [
    "## Pre-Processing the Files\n",
    "\n",
    "- Considers two files as input namely data file (matrixFile) and meta data file (metaDataFile)\n",
    "- Merged them based on cellCodeBar value\n",
    "- Identify the columns where all values are zero\n",
    "- Delete the columns with zero values\n",
    "- Create Dummy Variables for Cell Type\n",
    "- Saves the resultant data frame to CSV\n",
    "- The output (outputFile) is used as input for XGBoost Classifier"
   ]
  },
  {
   "cell_type": "code",
   "execution_count": null,
   "id": "f15304de",
   "metadata": {},
   "outputs": [],
   "source": [
    "import pandas as pd"
   ]
  },
  {
   "cell_type": "code",
   "execution_count": 2,
   "id": "769e4a01",
   "metadata": {},
   "outputs": [],
   "source": [
    "matrixFile = 'Matrix.csv'\n",
    "metaDataFile = 'metadata.csv'\n",
    "outputFile = 'OutputFile-Dummy.csv'"
   ]
  },
  {
   "cell_type": "code",
   "execution_count": null,
   "id": "82c15e29",
   "metadata": {},
   "outputs": [],
   "source": [
    "# Load the meta data file\n",
    "df_metaData = pd.read_csv(metaDataFile)\n",
    "df_metaData.head()"
   ]
  },
  {
   "cell_type": "code",
   "execution_count": null,
   "id": "edf32937",
   "metadata": {},
   "outputs": [],
   "source": [
    "#Depending on the data, some cols which are not required are dropped\n",
    "df_metaData.drop(['orig.ident'], axis = 1,inplace=True)\n",
    "df_metaData.drop(['nCount_RNA'], axis = 1,inplace=True)\n",
    "df_metaData.drop(['nFeature_RNA'], axis = 1,inplace=True)\n",
    "df_metaData.rename(columns = {'Unnamed: 0':'cellBarCode'}, inplace = True)\n",
    "label = \"cellBarCode\"\n",
    "df_metaData.head()"
   ]
  },
  {
   "cell_type": "code",
   "execution_count": null,
   "id": "e583aff2",
   "metadata": {},
   "outputs": [],
   "source": [
    "# Load the matrix/data file\n",
    "df_Matrix = pd.read_csv(MatrixFile)\n",
    "df_Matrix.head()"
   ]
  },
  {
   "cell_type": "code",
   "execution_count": null,
   "id": "c738c873",
   "metadata": {},
   "outputs": [],
   "source": [
    "# Taking transpose\n",
    "df_Matrix = df_Matrix.T"
   ]
  },
  {
   "cell_type": "code",
   "execution_count": null,
   "id": "0e0f94e9",
   "metadata": {},
   "outputs": [],
   "source": [
    "# Assigning the proper header \n",
    "new_header = df_Matrix.iloc[0]\n",
    "df_Matrix = df_Matrix[1:]\n",
    "df_Matrix.columns = new_header\n",
    "df_Matrix.head()"
   ]
  },
  {
   "cell_type": "code",
   "execution_count": null,
   "id": "fcdaddb3",
   "metadata": {},
   "outputs": [],
   "source": [
    "# Resetting the index\n",
    "df_Matrix = df_Matrix.reset_index(level=0)\n",
    "df_Matrix.head()"
   ]
  },
  {
   "cell_type": "code",
   "execution_count": null,
   "id": "8b171b2b",
   "metadata": {},
   "outputs": [],
   "source": [
    "df_Matrix.rename(columns = {'gene':'index_1'}, inplace = True)\n",
    "df_Matrix.rename(columns = {'index':label+\"_Orig\"}, inplace = True)\n",
    "df_Matrix.head()"
   ]
  },
  {
   "cell_type": "code",
   "execution_count": null,
   "id": "0acf2b07",
   "metadata": {},
   "outputs": [],
   "source": [
    "df = pd.merge(df_Matrix, df_metaData, on=label, how='inner')"
   ]
  },
  {
   "cell_type": "code",
   "execution_count": null,
   "id": "c7eed9c3",
   "metadata": {},
   "outputs": [],
   "source": [
    "df.drop(['orig.ident','nCount_RNA','nFeature_RNA'], axis = 1,inplace=True)"
   ]
  },
  {
   "cell_type": "markdown",
   "id": "a30ebf5d",
   "metadata": {},
   "source": [
    "## Pre-Processing the Data Frame"
   ]
  },
  {
   "cell_type": "code",
   "execution_count": null,
   "id": "de0e701b",
   "metadata": {},
   "outputs": [],
   "source": [
    "if 'SampleID' in df.columns:\n",
    "    df.drop(\"SampleID\", axis = 1, inplace=True)"
   ]
  },
  {
   "cell_type": "code",
   "execution_count": null,
   "id": "d93fc672",
   "metadata": {},
   "outputs": [],
   "source": [
    "#Removes columns with zero values\n",
    "df = df.loc[:, df.any()]"
   ]
  },
  {
   "cell_type": "code",
   "execution_count": null,
   "id": "97f65540",
   "metadata": {},
   "outputs": [],
   "source": [
    "#Getting the label counts\n",
    "label_counts = df[\"celltype\"].value_counts()\n",
    "label_counts"
   ]
  },
  {
   "cell_type": "code",
   "execution_count": null,
   "id": "4ddcd2e0",
   "metadata": {
    "scrolled": true
   },
   "outputs": [],
   "source": [
    "%%time\n",
    "df = pd.concat([df,pd.get_dummies(df['celltype'])],axis=1)\n",
    "df.drop('celltype', axis=1, inplace=True)\n",
    "df.head()"
   ]
  },
  {
   "cell_type": "code",
   "execution_count": null,
   "id": "8ce2c93f",
   "metadata": {},
   "outputs": [],
   "source": [
    "#checking for newly created cols\n",
    "df.shape"
   ]
  },
  {
   "cell_type": "code",
   "execution_count": null,
   "id": "44b9eca4",
   "metadata": {},
   "outputs": [],
   "source": [
    "%%time\n",
    "df.to_csv(outputFile, encoding='utf-8', index=False)"
   ]
  }
 ],
 "metadata": {
  "kernelspec": {
   "display_name": "Python 3 (ipykernel)",
   "language": "python",
   "name": "python3"
  },
  "language_info": {
   "codemirror_mode": {
    "name": "ipython",
    "version": 3
   },
   "file_extension": ".py",
   "mimetype": "text/x-python",
   "name": "python",
   "nbconvert_exporter": "python",
   "pygments_lexer": "ipython3",
   "version": "3.10.7"
  }
 },
 "nbformat": 4,
 "nbformat_minor": 5
}
