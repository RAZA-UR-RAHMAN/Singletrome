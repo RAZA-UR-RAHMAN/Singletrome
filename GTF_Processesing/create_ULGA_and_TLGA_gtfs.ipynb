{
 "cells": [
  {
   "cell_type": "code",
   "execution_count": 3,
   "metadata": {},
   "outputs": [],
   "source": [
    "%run GtfProcessor.ipynb\n",
    "import pandas as pd \n",
    "import numpy as np\n",
    "import sys\n",
    "import itertools\n",
    "from copy import deepcopy\n",
    "import copy\n",
    "import os"
   ]
  },
  {
   "cell_type": "code",
   "execution_count": 4,
   "metadata": {},
   "outputs": [],
   "source": [
    "### delete all the LNCRNA genes that have overlapping exon on the same strand with protein coding gene. \n",
    "#The file is strand_LnRNA_ExonOverlap_ProteinCodingExons\n",
    "def deleteLncRNAGenesOverlappingSameExonsSameStrand(senseExonOverlapBedFile,sameStrandDeletedGenesGTFFile,cleanedSameStrandExonsGTFFile):\n",
    "    senseExonOverlapBed = pd.read_csv(senseExonOverlapBedFile, sep='\\t', lineterminator='\\n',header=None)\n",
    "    senseExonOverlapBed.columns = [\"queryChr\",\"queryStart\",\"queryEnd\",\"queryGeneId\",\"queryScore\",\"queryStrand\",\"refChr\",\"refStart\",\"refEnd\",\"refGeneId\",\"refScore\",\"refStrand\",\"overlapLength\"]\n",
    "    uniqueGeneIdsOverlappingSenseStrand=set(senseExonOverlapBed.queryGeneId.unique().tolist())\n",
    "    # write new GTF files \n",
    "    sameStrandDeletedGenesGTFFileObj = open(sameStrandDeletedGenesGTFFile, \"w\")\n",
    "    cleanedSameStrandExonsGTFFileObj = open(cleanedSameStrandExonsGTFFile, \"w\")\n",
    "    # keep counts to cross check the consistancy of lines in the files\n",
    "    geneCountToBeDelted=0\n",
    "    geneCountToBeKept=0\n",
    "    for gendId in LncBookGenes.keys():\n",
    "        gene=LncBookGenes.get(gendId)\n",
    "        geneWithTranscriptsAndExonsLines=getGeneWithTranscriptsAndExonsAsLines(gene)\n",
    "        if gendId in uniqueGeneIdsOverlappingSenseStrand:\n",
    "            geneCountToBeDelted=geneCountToBeDelted+1;\n",
    "            sameStrandDeletedGenesGTFFileObj.write(geneWithTranscriptsAndExonsLines)\n",
    "        else:\n",
    "            geneCountToBeKept=geneCountToBeKept+1\n",
    "            cleanedSameStrandExonsGTFFileObj.write(geneWithTranscriptsAndExonsLines)\n",
    "    print(\"Number of genes to be deleted, because of exon overlap on the same strand : \\t\",len(uniqueGeneIdsOverlappingSenseStrand))\n",
    "    print(\"Number of genes *actually* deleted, because of exon overlap on the same strand : \\t\",geneCountToBeDelted)\n",
    "    if(len(uniqueGeneIdsOverlappingSenseStrand)==geneCountToBeDelted):\n",
    "        print(\"Number of genes to be deleted are equal to the deleted ones! Success\",len(uniqueGeneIdsOverlappingSenseStrand),\"\\tand\\t\",geneCountToBeDelted)\n",
    "    else:\n",
    "        sys.exit(\"-------Error Number of genes to be deleted are equal to the deleted ones--------\"+str(len(uniqueGeneIdsOverlappingSenseStrand))+\"\\tand\\t\"+str(geneCountToBeDelted))\n",
    "    return uniqueGeneIdsOverlappingSenseStrand"
   ]
  },
  {
   "cell_type": "code",
   "execution_count": 5,
   "metadata": {},
   "outputs": [],
   "source": [
    "def getProteinCodingExonsFromIndex(index,df):\n",
    "    refStart=df.iloc[index]['refStart']\n",
    "    refEnd=df.iloc[index]['refEnd']\n",
    "    proteinCodingExons = []\n",
    "    for i in range(len(refStart)):\n",
    "        proteinCodingExons.append([refStart[i],refEnd[i]])\n",
    "    return proteinCodingExons\n",
    "\n",
    "#getProteinCodingExonsFromIndex(3,df)   "
   ]
  },
  {
   "cell_type": "code",
   "execution_count": 6,
   "metadata": {},
   "outputs": [],
   "source": [
    "# merge the overlapping proteincoding exons into a long non coding exons\n",
    "def getUnionOfMultipleranges(proteinCodingExons):\n",
    "    #proteinCodingExons = [[7, 10], [11, 13], [11, 15], [14, 20], [23, 39]] # should output [[7, 20], [23, 39]]\n",
    "    b = []\n",
    "    for begin,end in sorted(proteinCodingExons):\n",
    "        if b and b[-1][1] >= begin - 1:\n",
    "            b[-1][1] = max(b[-1][1], end)\n",
    "        else:\n",
    "            b.append([begin, end])\n",
    "    return b"
   ]
  },
  {
   "cell_type": "code",
   "execution_count": 7,
   "metadata": {},
   "outputs": [],
   "source": [
    "# Python3 implementation to find\n",
    "# intersecting intervals\n",
    "\n",
    "# Function to print intersecting\n",
    "# intervals\n",
    "def printIntervals(arr1, arr2):\n",
    "\tresultingIntervals = []\n",
    "    # i and j pointers for arr1\n",
    "\t# and arr2 respectively\n",
    "\ti = j = 0\n",
    "\t\n",
    "\tn = len(arr1)\n",
    "\tm = len(arr2)\n",
    "\n",
    "\t# Loop through all intervals unless one\n",
    "\t# of the interval gets exhausted\n",
    "\twhile i < n and j < m:\n",
    "\t\t\n",
    "\t\t# Left bound for intersecting segment\n",
    "\t\tl = max(arr1[i][0], arr2[j][0])\n",
    "\t\t\n",
    "\t\t# Right bound for intersecting segment\n",
    "\t\tr = min(arr1[i][1], arr2[j][1])\n",
    "\t\t\n",
    "\t\t# If segment is valid print it\n",
    "\t\tif l <= r:\n",
    "\t\t\t#print('{', l, ',', r, '}')\n",
    "\t\t\tresultingIntervals.append([l,r])\n",
    "            \n",
    "\n",
    "\t\t# If i-th interval's right bound is\n",
    "\t\t# smaller increment i else increment j\n",
    "\t\tif arr1[i][1] < arr2[j][1]:\n",
    "\t\t\ti += 1\n",
    "\t\telse:\n",
    "\t\t\tj += 1\n",
    "\tresultingIntervalsDf = pd.DataFrame(resultingIntervals, columns = ['start', 'end'])\n",
    "\tresultingIntervalsDf=resultingIntervalsDf.drop_duplicates() # sometimes same intervals are returned if multiple protein coding exons overlap in the same region\n",
    "\treturn resultingIntervalsDf"
   ]
  },
  {
   "cell_type": "code",
   "execution_count": 8,
   "metadata": {},
   "outputs": [],
   "source": [
    "# +1 is to make sure that equality falls in the range\n",
    "def updateLncRNAExonSingleCase(resultingIntervalsDf,lncRNAStart,lncRNAEnd):\n",
    "    updatedLncRNAStart=0\n",
    "    updatedLncRNAEnd=0\n",
    "    resultingExons=[]\n",
    "    row=resultingIntervalsDf.iloc[0]\n",
    "    eStart=row['start']\n",
    "    eEnd=row['end']\n",
    "    if (lncRNAStart in range(eStart-1,eEnd) and lncRNAEnd in range(eStart,eEnd+1)):\n",
    "        updatedLncRNAStart=0\n",
    "        updatedLncRNAEnd=0\n",
    "    elif lncRNAStart < eStart: # Use the orignal lncRNA start\n",
    "        updatedLncRNAStart=lncRNAStart\n",
    "        updatedLncRNAEnd=eStart-globalExonBoundaryOffset\n",
    "    elif lncRNAEnd > eEnd: # Use the orignal lncRNA end\n",
    "        updatedLncRNAStart=eEnd+globalExonBoundaryOffset\n",
    "        updatedLncRNAEnd=lncRNAEnd\n",
    "    resultingExons.append([updatedLncRNAStart,updatedLncRNAEnd])\n",
    "    return resultingExons"
   ]
  },
  {
   "cell_type": "code",
   "execution_count": 9,
   "metadata": {},
   "outputs": [],
   "source": [
    "def updateLncRNAExonMultipleCase(resultingIntervalsDf,lncRNAStart,lncRNAEnd):\n",
    "    updatedLncRNAStart=0\n",
    "    updatedLncRNAEnd=0\n",
    "    \n",
    "    prevStart=0\n",
    "    prevEnd=0\n",
    "    resultingMultipleExons = [] \n",
    "    ### check if the lncRNA is contained completely inside the overlapping intervals. Meaning we cannot chop it.\n",
    "    for index, row in resultingIntervalsDf.iterrows():\n",
    "        eStart=row['start']\n",
    "        eEnd=row['end']\n",
    "        if (lncRNAStart in range(eStart-1,eEnd) and lncRNAEnd in range(eStart,eEnd+1)):\n",
    "            updatedLncRNAStart=0\n",
    "            updatedLncRNAEnd=0\n",
    "            resultingMultipleExons.append([updatedLncRNAStart,updatedLncRNAEnd])\n",
    "            return resultingMultipleExons\n",
    "    ### If reached here, then chop it off.\n",
    "    for i in range(len(resultingIntervalsDf)-1):\n",
    "        currentRow=resultingIntervalsDf.iloc[i]\n",
    "        nextRow=resultingIntervalsDf.iloc[i+1]\n",
    "        resultingMultipleExons.append([currentRow['end']+globalExonBoundaryOffset,nextRow['start']-globalExonBoundaryOffset])\n",
    "    ## Add Start and end if lncRNA is starting and/or ending after the intervals\n",
    "    minOfStarts=resultingIntervalsDf['start'].min()\n",
    "    maxOfEnds=resultingIntervalsDf['end'].max()\n",
    "    if(lncRNAStart<minOfStarts):\n",
    "         resultingMultipleExons.append([lncRNAStart,minOfStarts-globalExonBoundaryOffset])\n",
    "    if(lncRNAEnd>maxOfEnds):\n",
    "         resultingMultipleExons.append([maxOfEnds+globalExonBoundaryOffset,lncRNAEnd])\n",
    "    \n",
    "    resultingMultipleExons = sorted(resultingMultipleExons, key=lambda x: x[1])\n",
    "    return resultingMultipleExons\n"
   ]
  },
  {
   "cell_type": "code",
   "execution_count": 10,
   "metadata": {},
   "outputs": [],
   "source": [
    "# Create New Exons. Chop lncRNA exons or assign [0,0] to delete them\n",
    "def getNewExons(df,minimumExonLength):\n",
    "    df['proteinCodingExonsMerged'] = np.empty((len(df), 0)).tolist() # For merged protein coding exons\n",
    "    df['newExonsWithNoLengthLimit'] = np.empty((len(df), 0)).tolist()# add empty column for new exons\n",
    "    df['newExons'] = np.empty((len(df), 0)).tolist() # add empty column for new exons\n",
    "    df['numberOfNewExons'] = 0 # add empty column for numberOfNewExons\n",
    "    for index in range(len(df)):\n",
    "        proteinCodingExons = getProteinCodingExonsFromIndex(index,df)\n",
    "        lncRNAStart=df.iloc[index]['queryStart']\n",
    "        lncRNAEnd=df.iloc[index]['queryEnd']\n",
    "        lncRNAExon = [ [lncRNAStart , lncRNAEnd ] ]\n",
    "        # obtain Union of multiple ranges. This will combine all the overlapping protein coding exons \n",
    "        # into one long exon (if they have overlapping boundires or just starting 1 nt after each other.)\n",
    "        proteinCodingExons=getUnionOfMultipleranges(proteinCodingExons)\n",
    "        df.at[index,'proteinCodingExonsMerged'] = proteinCodingExons\n",
    "        resultingIntervals=printIntervals(proteinCodingExons, lncRNAExon)\n",
    "        newExons=[]\n",
    "        if(len(resultingIntervals)==1):\n",
    "            #print(\"-----------------------Single----------------------------\")\n",
    "            newExons=updateLncRNAExonSingleCase(resultingIntervals,lncRNAStart,lncRNAEnd)\n",
    "        else:\n",
    "            #print(\"-------------------------Multiple--------------------------\")\n",
    "            newExons=updateLncRNAExonMultipleCase(resultingIntervals,lncRNAStart,lncRNAEnd)\n",
    "        df.at[index,'newExonsWithNoLengthLimit'] = newExons\n",
    "        \n",
    "        # remove any exons with length less than minimumExonLength\n",
    "        filteredNewExon=[]\n",
    "        for exon in newExons:\n",
    "            start=exon[0]\n",
    "            end=exon[1]\n",
    "            if(end-start>=minimumExonLength):\n",
    "                filteredNewExon.append([start,end])\n",
    "        \n",
    "        df.at[index,'newExons'] = filteredNewExon\n",
    "        df.at[index,'numberOfNewExons'] = len(filteredNewExon)\n",
    "\n",
    "    df.sort_values(by=['queryGeneId'])\n",
    "    return df"
   ]
  },
  {
   "cell_type": "code",
   "execution_count": 11,
   "metadata": {},
   "outputs": [],
   "source": [
    "def testExonChoppingCalculation(proteinCodingExons,lncRNACases):\n",
    "    for i in range(len(lncRNACases)):\n",
    "        lncRNAStart=lncRNACases[i][0]\n",
    "        lncRNAEnd=lncRNACases[i][1]\n",
    "        lncRNAExon = [ [lncRNAStart , lncRNAEnd ] ]\n",
    "        resultingIntervals=printIntervals(proteinCodingExons, lncRNAExon)\n",
    "        if(len(resultingIntervals)==1):\n",
    "            print(\"Case ,\",i+1,\":---------Single--\")\n",
    "            print(updateLncRNAExonSingleCase(resultingIntervals,lncRNAStart,lncRNAEnd))\n",
    "        else:\n",
    "            print(\"Case ,\",i+1,\":---------Multiple-\")\n",
    "            print(updateLncRNAExonMultipleCase(resultingIntervals,lncRNAStart,lncRNAEnd))\n",
    "        print(\"-----------------------------------------------------------------------------\")"
   ]
  },
  {
   "cell_type": "code",
   "execution_count": null,
   "metadata": {},
   "outputs": [],
   "source": []
  },
  {
   "cell_type": "code",
   "execution_count": 12,
   "metadata": {},
   "outputs": [],
   "source": [
    "def updateOrDeleteExonsWithNewExons(gene,exonsToBeUpdatedForGeneDf,minimumExonLength):\n",
    "    for transcriptID in gene.transcripts:\n",
    "        transcriptObj=gene.transcripts.get(transcriptID)\n",
    "        for exonObj in transcriptObj.exons:\n",
    "            rowFromCsvForExonId=exonsToBeUpdatedForGeneDf.loc[exonsToBeUpdatedForGeneDf['exonId'] == exonObj.identifier]\n",
    "            if not rowFromCsvForExonId.empty:\n",
    "                newExons=rowFromCsvForExonId['newExons']\n",
    "                numberOfNewExons=rowFromCsvForExonId['numberOfNewExons']            \n",
    "                if numberOfNewExons.all()==0: # is one value in the file but pandas is loading it as series and 0 0\n",
    "                    # delete the exon from the Transcript. \n",
    "                    #print('deleteng in transcriptID\\t'+transcriptID+'\\texonObj.identifier\\t'+exonObj.identifier)\n",
    "                    transcriptObj.exons = [item for item in transcriptObj.exons if item.identifier != exonObj.identifier]\n",
    "                    transcriptObj.n_exons=transcriptObj.n_exons-1\n",
    "                else:\n",
    "                    firstExon=True;\n",
    "                    for start,end in itertools.chain.from_iterable(newExons):\n",
    "                        if firstExon==True:\n",
    "                            exonObj.start=start\n",
    "                            exonObj.end=end\n",
    "                            exonObj.length=abs(exonObj.end - exonObj.start+1)\n",
    "                            #print('Updating')\n",
    "                            firstExon=False;\n",
    "                        else:\n",
    "                            #print('Adding more exons')\n",
    "                            # just updated the start,end and id in the copied exon\n",
    "                            copiedExonObj = copy.deepcopy(exonObj) \n",
    "                            copiedExonObj.start=start\n",
    "                            copiedExonObj.end=end\n",
    "                            copiedExonObj.length=abs(copiedExonObj.end - copiedExonObj.start+1)\n",
    "                            copiedExonObj.identifier=copiedExonObj.chromosome +\"_\" +str(copiedExonObj.start)\\\n",
    "                            +\"_\" +str(copiedExonObj.end)+\"_\" +copiedExonObj.strand\n",
    "                            transcriptObj.add_exon(copiedExonObj) \n",
    "                            transcriptObj.n_exons=transcriptObj.n_exons+1\n",
    "\n",
    "        gene.transcripts[transcriptID]=transcriptObj\n",
    "    return gene"
   ]
  },
  {
   "cell_type": "code",
   "execution_count": 13,
   "metadata": {},
   "outputs": [],
   "source": [
    "def updateOrDeleteTranscripts(gene,numberOfTranscriptsDeletedBecauseOfNoExon):\n",
    "    for transcriptID in list(gene.transcripts):\n",
    "        transcriptObj=gene.transcripts.get(transcriptID)\n",
    "        if(transcriptObj.n_exons==0):\n",
    "            del gene.transcripts[transcriptID] # remove transcript with no exons\n",
    "            numberOfTranscriptsDeletedBecauseOfNoExon=numberOfTranscriptsDeletedBecauseOfNoExon+1\n",
    "        else:\n",
    "            start=sys.maxsize\n",
    "            end=0\n",
    "            for exon in transcriptObj.exons:\n",
    "                if exon.start<start:\n",
    "                    start=exon.start\n",
    "                if exon.end>end:\n",
    "                    end=exon.end\n",
    "            transcriptObj.start=start\n",
    "            transcriptObj.end=end\n",
    "            gene.transcripts[transcriptID]=transcriptObj\n",
    "    return gene,numberOfTranscriptsDeletedBecauseOfNoExon\n",
    "def updateOrDeleteGenes(CleanedSameStrandGenes,gene,numberOfGenesDeletedBecauseOfNoTranscripts):\n",
    "    start=sys.maxsize\n",
    "    end=0\n",
    "    if(len(gene.transcripts)==0):\n",
    "        del CleanedSameStrandGenes[gene.identifier]# remove gene with no transcripts\n",
    "        numberOfGenesDeletedBecauseOfNoTranscripts=numberOfGenesDeletedBecauseOfNoTranscripts+1\n",
    "    else:\n",
    "        for transcriptID in list(gene.transcripts):\n",
    "            transcriptObj=gene.transcripts.get(transcriptID)\n",
    "            if transcriptObj.start<start:\n",
    "                start=transcriptObj.start\n",
    "            if transcriptObj.end>end:\n",
    "                end=transcriptObj.end\n",
    "        gene.start=start\n",
    "        gene.end=end\n",
    "        CleanedSameStrandGenes[gene.identifier]=gene  \n",
    "    return CleanedSameStrandGenes,numberOfGenesDeletedBecauseOfNoTranscripts\n",
    "\n",
    "\n",
    "        "
   ]
  },
  {
   "cell_type": "code",
   "execution_count": 14,
   "metadata": {},
   "outputs": [],
   "source": [
    "def getRemainingAntiSenseToBeDeleted(uniqueGeneIdsOverlappingSenseStrand,uniqueGeneIdsOverlappingAntisense,alreadyDeletedInSenseFile):\n",
    "    print(\"unique GeneIds Overlapping Sense Strand: \",len(uniqueGeneIdsOverlappingSenseStrand))\n",
    "    print(\"unique GeneIds Overlapping Antisense Strand: \",len(uniqueGeneIdsOverlappingAntisense))\n",
    "    remainingAntiSenseToBeDeleted=set(uniqueGeneIdsOverlappingAntisense) - set(uniqueGeneIdsOverlappingSenseStrand)\n",
    "    alreadyDeletedInSense = [gene for gene in uniqueGeneIdsOverlappingAntisense if gene in uniqueGeneIdsOverlappingSenseStrand]\n",
    "    print(\"Genes that overlap on both sense and anti-sense strand or alreadyDeletedInSense: \",len(alreadyDeletedInSense))\n",
    "    print(\"Remaining Anti Sense Genes To Be Deleted: \",len(remainingAntiSenseToBeDeleted))\n",
    "    if(len(alreadyDeletedInSense)+len(remainingAntiSenseToBeDeleted)!=len(uniqueGeneIdsOverlappingAntisense)):\n",
    "         sys.exit(\"Error!!! Already Deleted In Sense and Remaining Anti Sense Genes To Be Deleted are not equal to total \\\n",
    "        number of genes overlapping in antisense\",len(alreadyDeletedInSense)+len(remainingAntiSenseToBeDeleted))\n",
    "    \n",
    "    print(\"Success: Already Deleted In Sense and Remaining Anti Sense Genes To Be Deleted are equal to total \\\n",
    "        number of genes overlapping in antisense\",len(alreadyDeletedInSense)+len(remainingAntiSenseToBeDeleted))\n",
    "    ### Write to a text file for a possible future use\n",
    "    alreadyDeletedInSenseFileObj = open(alreadyDeletedInSenseFile, \"w\")\n",
    "    for element in alreadyDeletedInSense:\n",
    "        alreadyDeletedInSenseFileObj.write(element + \"\\n\")\n",
    "    alreadyDeletedInSenseFileObj.close()\n",
    "    return remainingAntiSenseToBeDeleted"
   ]
  },
  {
   "cell_type": "code",
   "execution_count": 15,
   "metadata": {},
   "outputs": [],
   "source": [
    "def cleaneAntiSenseOverlappingExons(uniqueGeneIdsOverlappingAntisense,CleanedSameStrandGenes):\n",
    "    nrTotalGenes=len(CleanedSameStrandGenes.keys())\n",
    "    nrGenesProcessed=0\n",
    "    nrTranscriptsDelOfNoExon=0\n",
    "    nrGenesDelOfNoTranscripts=0\n",
    "    for geneID in uniqueGeneIdsOverlappingAntisense:\n",
    "        gene=CleanedSameStrandGenes.get(geneID)\n",
    "        exonsToBeUpdatedForGeneDf=df.loc[df['queryGeneId'] == geneID]\n",
    "        try:\n",
    "            nrGenesProcessed=nrGenesProcessed+1\n",
    "            gene=updateOrDeleteExonsWithNewExons(gene,exonsToBeUpdatedForGeneDf,minimumExonLength)\n",
    "            gene , nrTranscriptsDelOfNoExon=updateOrDeleteTranscripts(gene,nrTranscriptsDelOfNoExon)\n",
    "            CleanedSameStrandGenes, nrGenesDelOfNoTranscripts=updateOrDeleteGenes(CleanedSameStrandGenes,gene,nrGenesDelOfNoTranscripts)\n",
    "        except AttributeError as error:\n",
    "            sys.exit('Gene causing the erros is\\t'+str(geneID))\n",
    "    print('number Of Total Genes before processing\\t'+str(nrTotalGenes))\n",
    "    print('number Of Genes processed\\t'+str(nrGenesProcessed))\n",
    "    print('nr Transcripts Deleted Because Of No Exon\\t'+str(nrTranscriptsDelOfNoExon))  \n",
    "    print('number Of Genes Deleted Because Of No Transcripts\\t'+str(nrGenesDelOfNoTranscripts))\n",
    "    if(nrGenesProcessed!=len(uniqueGeneIdsOverlappingAntisense)):\n",
    "        sys.exit(\"-------Error Number of genes processed and written are not equal to initial-\")\n",
    "    validateAndWriteGTFToFile(CleanedSameStrandGenes,cleanedForSenseAndAntisenseFile)"
   ]
  },
  {
   "cell_type": "code",
   "execution_count": null,
   "metadata": {},
   "outputs": [],
   "source": []
  },
  {
   "cell_type": "code",
   "execution_count": 16,
   "metadata": {},
   "outputs": [],
   "source": [
    "#### we will take only unique exons within a gene for overlap to reduce the lines and unncessary comparisons. i-e If a gene has multiple transcripts and if the same exon is repeated in these transcripts, we will take that exon only once.\n",
    "# To insure that we do not mess it with other genes, we will take it inside each gene only. This will take all the exons of the gene and only once even if they are repeating inside that gene in different transcripts (of that gene).\n",
    "def createExonBedFile(gtfFile,outputDir,filename):\n",
    "    lines_seen = set() # holds lines already seen\n",
    "    with open(gtfFile, \"r\") as a_file:\n",
    "            for line in a_file:\n",
    "                if not line.startswith(\"#\"):\n",
    "                    gtfLine = line.split(\"\\t\")\n",
    "                    if(gtfLine[2]==\"exon\"):\n",
    "                        longString=gtfLine[8].split()\n",
    "                        geneId=longString[1].split(\";\")[0].replace('\"', '')\n",
    "                        exonLine=gtfLine[0]+\"\\t\"+gtfLine[3]+\"\\t\"+gtfLine[4]+\"\\t\"+ geneId+\"\\t\"+'0'+\"\\t\"+gtfLine[6]+\"\\n\"\n",
    "                        if exonLine not in lines_seen: # not a duplicate\n",
    "                            lines_seen.add(exonLine)\n",
    "    my_file = open(outputDir+filename, \"w\")\n",
    "    my_file.writelines(lines_seen)\n",
    "    my_file.close()\n",
    "    return(lines_seen)\n"
   ]
  },
  {
   "cell_type": "code",
   "execution_count": null,
   "metadata": {},
   "outputs": [],
   "source": []
  },
  {
   "cell_type": "code",
   "execution_count": null,
   "metadata": {},
   "outputs": [],
   "source": []
  },
  {
   "cell_type": "code",
   "execution_count": 18,
   "metadata": {},
   "outputs": [],
   "source": [
    "######## input File Names\n",
    "# GTFs are downloaded in Download_and_Create_Genome_indices.sh\n",
    "LncBook_file = \"Genomes//reference_sources/LncBook_Version2.0_OnlyLnc_hg38.gtf_corrected.gtf\"\n",
    "genCod_file=\"Genomes//reference_sources/gencode.v32.primary_assembly.annotation.gtf.protein_coding.gtf\"\n",
    "gtfGeneCodeLncRNA = \"Genomes//reference_sources/gencode.v32.primary_assembly.annotation.gtf.gencode_lncRNA.gtf\"\n",
    "\n",
    "\n",
    "######## Output File Names\n",
    "outputDir=\"Genomes/OverlapCleansing/\"\n",
    "# LncExpDB overlap with Genecode protein coding\n",
    "senseExonOverlapBedFile=outputDir+\"strand_LnRNA_ExonOverlap_ProteinCodingExons.bed\"\n",
    "antiSenseExonOverlapBedFile=outputDir+\"antiStrand_LnRNA_ExonOverlap_ProteinCodingExons.bed\"\n",
    "#  Genecode protein coding overlap with Genecode lncRNA\n",
    "senseProteinGenecodelncRNABedFile=outputDir+\"sense_protein_GenecodelncRNA.bed\"\n",
    "antisenseProteinGenecodelncRNABedFile=outputDir+\"antisense_protein_GenecodelncRNA.bed\"\n",
    "\n",
    "#\n",
    "sameStrandDeletedGenesGTFFile=outputDir+\"same_Strand_Deleted_Genes.gtf\"\n",
    "cleanedSameStrandExonsGTFFile=outputDir+\"cleaned_Same_Strand_Exons.gtf\"\n",
    "#testCleanedSameStrandExonsGTFFile = outputDir+\"testCasesCleanedSameStrandExonsGTF.gtf\" # just for testing purpose\n",
    "alreadyDeletedInSenseFile=outputDir+\"alreadyDeletedInSenseFile.txt\"\n",
    "\n",
    "cleanedForSenseAndAntisenseFile=outputDir+\"cleanedForSense_and_Antisense.gtf\"\n",
    "antiSenseExonOverlapCompressedBedFile = outputDir+\"antiSenseExonOverlapBedFileCompressed.csv\"\n",
    "antiSenseExonsChoppedDfFilePath = outputDir+\"antiSenseExonsChoppedDf.csv\"\n",
    "\n",
    "## parameters\n",
    "globalExonBoundaryOffset=100 # There should be gap of 100 nucleotides from the trimmed boundaries\n",
    "minimumExonLength=200 # new chopped exons length should be atleast 200nt"
   ]
  },
  {
   "cell_type": "code",
   "execution_count": null,
   "metadata": {},
   "outputs": [],
   "source": []
  },
  {
   "cell_type": "code",
   "execution_count": 16,
   "metadata": {},
   "outputs": [
    {
     "name": "stdout",
     "output_type": "stream",
     "text": [
      "---lncRNAs----\n",
      "geneCount 101285\n",
      "transcriptCount 331167\n",
      "exonCount 611102\n",
      "---protein coding----\n",
      "geneCount 19384\n",
      "transcriptCount 151714\n",
      "exonCount 476299\n",
      "---Gencode lncRNAs----\n",
      "geneCount 16849\n",
      "transcriptCount 47262\n",
      "exonCount 109075\n"
     ]
    }
   ],
   "source": [
    "print(\"---lncRNAs----\")\n",
    "LncBookGenes, LncBookTranscripts, LncBookExons=read_gtf_file(LncBook_file)\n",
    "printNumberOfGeneTranscriptsExons(LncBookGenes, LncBookTranscripts, LncBookExons)\n",
    "print(\"---protein coding----\")\n",
    "genCodGenes, genCodTranscripts, genCodExons=read_gtf_file(genCod_file)\n",
    "printNumberOfGeneTranscriptsExons(genCodGenes, genCodTranscripts, genCodExons)\n",
    "\n",
    "print(\"---Gencode lncRNAs----\")\n",
    "gencodeLncGenes, gencodeLncTranscripts, gencodeLncExons=read_gtf_file(gtfGeneCodeLncRNA)\n",
    "printNumberOfGeneTranscriptsExons(gencodeLncGenes, gencodeLncTranscripts, gencodeLncExons)"
   ]
  },
  {
   "cell_type": "code",
   "execution_count": 17,
   "metadata": {},
   "outputs": [
    {
     "name": "stdout",
     "output_type": "stream",
     "text": [
      "The length of Uniq exons per gene in LncBook_file is: 611102\n",
      "The length of Uniq exons per gene in genCod_file is: 476299\n",
      "The length of Uniq exons per gene in genCodlncRNA_file is: 109075\n"
     ]
    }
   ],
   "source": [
    "############### Generate bed files\n",
    "lines_seen=createExonBedFile(LncBook_file,outputDir,\"LncBook_Version2.0_OnlyLnc_hg38_Exons.bed\")\n",
    "print(\"The length of Uniq exons per gene in LncBook_file is:\", len(lines_seen))\n",
    "\n",
    "lines_seen=createExonBedFile(genCod_file,outputDir,\"gencode.v32.primary_assembly.annotation.gtf.filtered_Exons.bed\")\n",
    "print(\"The length of Uniq exons per gene in genCod_file is:\", len(lines_seen))\n",
    "\n",
    "lines_seen=createExonBedFile(gtfGeneCodeLncRNA,outputDir,\"geneCode_lncRNA.bed\")\n",
    "print(\"The length of Uniq exons per gene in genCodlncRNA_file is:\", len(lines_seen))"
   ]
  },
  {
   "cell_type": "code",
   "execution_count": null,
   "metadata": {},
   "outputs": [],
   "source": [
    "##### perform the overlap commands in bash setup.sh "
   ]
  },
  {
   "cell_type": "code",
   "execution_count": 18,
   "metadata": {},
   "outputs": [
    {
     "name": "stdout",
     "output_type": "stream",
     "text": [
      "Query always represent lncRNAs and Reference represents protein coding in the dataframe from the bed file\n",
      "\n",
      "\n",
      "----------- /data/Mullen_1/Raza/scRNA/Genomes/OverlapCleansing/strand_LnRNA_ExonOverlap_ProteinCodingExons.bed\n",
      "uniqueQueryGeneIdsOverlap:  7531  uniqueRefGeneIdsOverlap:  6309\n",
      "queryUniqueExonsOverlap:  24357  refUniqueExonsOverlap 42868\n",
      "\n",
      "\n",
      "----------- /data/Mullen_1/Raza/scRNA/Genomes/OverlapCleansing/antiStrand_LnRNA_ExonOverlap_ProteinCodingExons.bed\n",
      "uniqueQueryGeneIdsOverlap:  14212  uniqueRefGeneIdsOverlap:  10492\n",
      "queryUniqueExonsOverlap:  44062  refUniqueExonsOverlap 47057\n",
      "\n",
      "\n",
      "----------- /data/Mullen_1/Raza/scRNA/Genomes/OverlapCleansing/sense_protein_GenecodelncRNA.bed\n",
      "uniqueQueryGeneIdsOverlap:  516  uniqueRefGeneIdsOverlap:  619\n",
      "queryUniqueExonsOverlap:  2106  refUniqueExonsOverlap 3514\n",
      "\n",
      "\n",
      "----------- /data/Mullen_1/Raza/scRNA/Genomes/OverlapCleansing/antisense_protein_GenecodelncRNA.bed\n",
      "uniqueQueryGeneIdsOverlap:  3791  uniqueRefGeneIdsOverlap:  3590\n",
      "queryUniqueExonsOverlap:  8809  refUniqueExonsOverlap 12941\n",
      "\n",
      "\n"
     ]
    }
   ],
   "source": [
    "#### Calculate the numbers here. One lncRNA exon can overlap with multiple protein coding\n",
    "# we want to count unique lncRNA exons\n",
    "\n",
    "def printNumberOFUniqueLncRNAsOverlap(bedFilePath):\n",
    "    exonOverlapBed = pd.read_csv(bedFilePath, sep='\\t', lineterminator='\\n',header=None)\n",
    "    exonOverlapBed.columns = [\"queryChr\",\"queryStart\",\"queryEnd\",\"queryGeneId\",\"queryScore\",\"queryStrand\",\"refChr\",\"refStart\",\"refEnd\",\"refGeneId\",\"refScore\",\"refStrand\",\"overlapLength\"]\n",
    "    # Query overlap numbers\n",
    "    uniqueQueryGeneIdsOverlap=str(len(exonOverlapBed.queryGeneId.unique().tolist()))\n",
    "    queryTotalExonsOverlapDf = exonOverlapBed[[\"queryChr\",\"queryStart\",\"queryEnd\",\"queryGeneId\"]]\n",
    "    queryUniqueExonsOverlapDf = queryTotalExonsOverlapDf.drop_duplicates()\n",
    "    \n",
    "    # Reference overlap numbers\n",
    "    uniqueRefGeneIdsOverlap=str(len(exonOverlapBed.refGeneId.unique().tolist()))\n",
    "    refTotalExonsOverlapDf = exonOverlapBed[[\"refChr\",\"refStart\",\"refEnd\",\"refGeneId\"]]\n",
    "    refUniqueExonsOverlapDf = refTotalExonsOverlapDf.drop_duplicates()\n",
    "    print(\"-----------\",bedFilePath)\n",
    "    print(\"uniqueQueryGeneIdsOverlap: \",uniqueQueryGeneIdsOverlap,\" uniqueRefGeneIdsOverlap: \",uniqueRefGeneIdsOverlap)\n",
    "    # Total exon overlap will be the same. as these are just number of lines in the file and not so meaningful\n",
    "    #print(\"queryTotalExonsOverlap: \",queryTotalExonsOverlapDf.shape[0],\" refTotalExonsOverlap\",refTotalExonsOverlapDf.shape[0])\n",
    "    print(\"queryUniqueExonsOverlap: \",queryUniqueExonsOverlapDf.shape[0],\" refUniqueExonsOverlap\",refUniqueExonsOverlapDf.shape[0])\n",
    "    print(\"\\n\")\n",
    "\n",
    "##################################### Call it for the overlapped bed files \n",
    "# Gencode with LncExpDB\n",
    "print(\"Query always represent lncRNAs and Reference represents protein coding in the dataframe from the bed file\\n\\n\")\n",
    "printNumberOFUniqueLncRNAsOverlap(senseExonOverlapBedFile) \n",
    "printNumberOFUniqueLncRNAsOverlap(antiSenseExonOverlapBedFile)\n",
    "# Within Gencode\n",
    "printNumberOFUniqueLncRNAsOverlap(senseProteinGenecodelncRNABedFile) \n",
    "printNumberOFUniqueLncRNAsOverlap(antisenseProteinGenecodelncRNABedFile)\n"
   ]
  },
  {
   "cell_type": "code",
   "execution_count": null,
   "metadata": {},
   "outputs": [],
   "source": []
  },
  {
   "cell_type": "code",
   "execution_count": 19,
   "metadata": {},
   "outputs": [
    {
     "name": "stdout",
     "output_type": "stream",
     "text": [
      "-----Cleaning GTF annotation for Sense strand overlap----\n",
      "Number of genes to be deleted, because of exon overlap on the same strand : \t 7531\n",
      "Number of genes *actually* deleted, because of exon overlap on the same strand : \t 7531\n",
      "Number of genes to be deleted are equal to the deleted ones! Success 7531 \tand\t 7531\n"
     ]
    }
   ],
   "source": [
    "############################################# Sense overlap Cleaning ###################\n",
    "# delete LncRNA Genes that Overlap Same Exons in the Same Strand. As they can be un-annotated protein coding genes.\n",
    "print(\"-----Cleaning GTF annotation for Sense strand overlap----\")\n",
    "uniqueGeneIdsOverlappingSenseStrand=deleteLncRNAGenesOverlappingSameExonsSameStrand(senseExonOverlapBedFile,sameStrandDeletedGenesGTFFile,cleanedSameStrandExonsGTFFile)\n"
   ]
  },
  {
   "cell_type": "code",
   "execution_count": 20,
   "metadata": {},
   "outputs": [],
   "source": [
    "############################################# Anti-Sense overlap Cleaning ###################\n",
    "#Clean (delete or chop) LncRNA exons that Overlap Exons in the anti-sense Strand. Because cell ranger will assign the reads to + strand (always even if lncRNA is +)\n",
    "antiSenseExonOverlapBed = pd.read_csv(antiSenseExonOverlapBedFile, sep='\\t', lineterminator='\\n',header=None)\n",
    "antiSenseExonOverlapBed.columns = [\"queryChr\",\"queryStart\",\"queryEnd\",\"queryGeneId\",\"queryScore\",\"queryStrand\",\"refChr\",\"refStart\",\"refEnd\",\"refGeneId\",\"refScore\",\"refStrand\",\"overlapLength\"]\n",
    "df=antiSenseExonOverlapBed.groupby(['queryChr', 'queryStart','queryEnd','queryGeneId','queryStrand'], as_index = False).agg({'refChr': list,'refStart': list,'refEnd': list,'refGeneId': list,'refStrand': list,'overlapLength': list,})\n",
    "# create exonId for easy matching in the comparisons\n",
    "df[\"exonId\"] = df[\"queryChr\"] +\"_\" + df[\"queryStart\"].astype(str)+\"_\"+ df[\"queryEnd\"].astype(str)+\"_\"+ df[\"queryStrand\"]+\"_\"+ df[\"queryGeneId\"]\n",
    "antiSenseExonOverlapCompressedBedFileObj = open(antiSenseExonOverlapCompressedBedFile, \"w\")\n",
    "#write the compressed exons. Compressed line put multiple overlaps of an exon in one line\n",
    "df.to_csv(antiSenseExonOverlapCompressedBedFileObj, encoding='utf-8',index=False)\n",
    "## Get new exon structures for the LncRNAs based on the overlapping information.\n",
    "# This function internally calls updateLncRNAExonSingleCase and updateLncRNAExonMultipleCase, which in terms also call the interval functions and all.\n",
    "df=getNewExons(df,minimumExonLength)\n",
    "# write one line for each exon to chop or delete it from input GTF file (in this case LnCRNA)\n",
    "antiSenseExonsChoppedDfObj = open(antiSenseExonsChoppedDfFilePath, \"w\")\n",
    "df.to_csv(antiSenseExonsChoppedDfObj, encoding='utf-8',index=False)"
   ]
  },
  {
   "cell_type": "code",
   "execution_count": 21,
   "metadata": {},
   "outputs": [
    {
     "name": "stdout",
     "output_type": "stream",
     "text": [
      "Number of genes to be deleted or updated, because of exon overlap on the anti-sense strand : \t 14212\n",
      "geneCount 93754\n",
      "transcriptCount 311205\n",
      "exonCount 565717\n"
     ]
    }
   ],
   "source": [
    "uniqueGeneIdsOverlappingAntisense=df.queryGeneId.unique().tolist()\n",
    "print(\"Number of genes to be deleted or updated, because of exon overlap on the anti-sense strand : \\t\",len(set(uniqueGeneIdsOverlappingAntisense)))\n",
    "CleanedSameStrandGenes, CleanedSameStrandTranscripts, CleanedSameStrandExons=read_gtf_file(cleanedSameStrandExonsGTFFile)\n",
    "printNumberOfGeneTranscriptsExons(CleanedSameStrandGenes, CleanedSameStrandTranscripts, CleanedSameStrandExons)\n",
    "\n"
   ]
  },
  {
   "cell_type": "code",
   "execution_count": 22,
   "metadata": {
    "scrolled": true
   },
   "outputs": [
    {
     "name": "stdout",
     "output_type": "stream",
     "text": [
      "unique GeneIds Overlapping Sense Strand:  7531\n",
      "unique GeneIds Overlapping Antisense Strand:  14212\n",
      "Genes that overlap on both sense and anti-sense strand or alreadyDeletedInSense:  849\n",
      "Remaining Anti Sense Genes To Be Deleted:  13363\n",
      "Success: Already Deleted In Sense and Remaining Anti Sense Genes To Be Deleted are equal to total         number of genes overlapping in antisense 14212\n",
      "-----Cleaning GTF annotation for Anti-sense strand overlap----\n",
      "number Of Total Genes before processing\t93754\n",
      "number Of Genes processed\t13363\n",
      "nr Transcripts Deleted Because Of No Exon\t5837\n",
      "number Of Genes Deleted Because Of No Transcripts\t2539\n"
     ]
    }
   ],
   "source": [
    "remainingAntiSenseToBeDeleted=getRemainingAntiSenseToBeDeleted(uniqueGeneIdsOverlappingSenseStrand,uniqueGeneIdsOverlappingAntisense,alreadyDeletedInSenseFile)\n",
    "print(\"-----Cleaning GTF annotation for Anti-sense strand overlap----\")\n",
    "cleaneAntiSenseOverlappingExons(remainingAntiSenseToBeDeleted,CleanedSameStrandGenes)\n",
    "\n"
   ]
  },
  {
   "cell_type": "code",
   "execution_count": 7,
   "metadata": {},
   "outputs": [
    {
     "name": "stdout",
     "output_type": "stream",
     "text": [
      "..Loading the Cleaned and final GTF file for numbers and validity : \t /data/Mullen_1/Raza/scRNA/Genomes/OverlapCleansing/cleanedForSense_and_Antisense.gtf\n",
      "geneCount 91215\n",
      "transcriptCount 305368\n",
      "exonCount 537373\n"
     ]
    }
   ],
   "source": [
    "print(\"..Loading the Cleaned and final GTF file for numbers and validity : \\t\",cleanedForSenseAndAntisenseFile)\n",
    "genes, transcripts, exons=read_gtf_file(cleanedForSenseAndAntisenseFile)\n",
    "printNumberOfGeneTranscriptsExons(genes, transcripts, exons)\n",
    "\n"
   ]
  },
  {
   "cell_type": "code",
   "execution_count": 24,
   "metadata": {},
   "outputs": [],
   "source": [
    "# create exons bed file again in a test dir to check the overlap. There should not be any overlap now\n",
    "testPath= outputDir+\"temp/\"\n",
    "if not os.path.exists(testPath):\n",
    "    os.mkdir(testPath, mode = 0o777, dir_fd = None)\n",
    "\n"
   ]
  },
  {
   "cell_type": "code",
   "execution_count": 25,
   "metadata": {},
   "outputs": [
    {
     "name": "stdout",
     "output_type": "stream",
     "text": [
      "cleanedForSense_and_Antisense.gtf_OnlyLnc_hg38_Exons.bed\n",
      "The length of Uniq exons per gene in LncBook_file is: 537373\n"
     ]
    }
   ],
   "source": [
    "filename = os.path.basename(cleanedForSenseAndAntisenseFile)+str(\"_OnlyLnc_hg38_Exons.bed\")\n",
    "print(filename)\n",
    "lines_seen=createExonBedFile(cleanedForSenseAndAntisenseFile,testPath,filename)\n",
    "print(\"The length of Uniq exons per gene in LncBook_file is:\", len(lines_seen))"
   ]
  },
  {
   "cell_type": "code",
   "execution_count": null,
   "metadata": {},
   "outputs": [],
   "source": [
    "# perform the overlap commands in bash setup.sh for testing overlaps"
   ]
  },
  {
   "cell_type": "code",
   "execution_count": null,
   "metadata": {},
   "outputs": [],
   "source": []
  },
  {
   "cell_type": "code",
   "execution_count": 25,
   "metadata": {},
   "outputs": [
    {
     "name": "stdout",
     "output_type": "stream",
     "text": [
      "---Gencode lncRNAs----\n",
      "geneCount 16849\n",
      "transcriptCount 47262\n",
      "exonCount 109075\n",
      "---Singletrome lncRNAs----\n",
      "geneCount 91215\n",
      "transcriptCount 305368\n",
      "exonCount 537373\n",
      "----- We added the following additional lncRNAs to the GTF compared to the default Gencode lncRNAs----\n",
      "Genes:  74366  Fold: 5.41\n",
      "Transcripts:  258106  Fold: 6.46\n",
      "Exons:  428298  Fold: 4.93\n"
     ]
    }
   ],
   "source": [
    "## How many lncRNA, transcripts and exons we added compared to Gencode lncRNAs\n",
    "print(\"---Gencode lncRNAs----\")\n",
    "printNumberOfGeneTranscriptsExons(gencodeLncGenes, gencodeLncTranscripts, gencodeLncExons)\n",
    "print(\"---Singletrome lncRNAs----\")\n",
    "printNumberOfGeneTranscriptsExons(genes, transcripts, exons)\n",
    "print(\"----- We added the following additional lncRNAs to the GTF compared to the default Gencode lncRNAs----\")\n",
    "print(\"Genes: \",len(genes)-len(gencodeLncGenes), \" Fold:\",round(len(genes)/len(gencodeLncGenes),2))\n",
    "print(\"Transcripts: \",len(transcripts)-len(gencodeLncTranscripts), \" Fold:\",round(len(transcripts)/len(gencodeLncTranscripts),2))\n",
    "print(\"Exons: \",len(exons)-len(gencodeLncExons), \" Fold:\",round(len(exons)/len(gencodeLncExons),2))"
   ]
  },
  {
   "cell_type": "code",
   "execution_count": 41,
   "metadata": {},
   "outputs": [
    {
     "name": "stdout",
     "output_type": "stream",
     "text": [
      "Loading the Cleaned for same strand GTF file with Gencode proteincoding genes: \t /data/Mullen_1/Raza/scRNA/Genomes//reference_sources/cleanedForSenseStrand_LncBook_Version2.0__gencode.v32.gtf\n",
      "geneCount 113138\n",
      "transcriptCount 462919\n",
      "exonCount 1042016\n"
     ]
    }
   ],
   "source": [
    "print(\"Loading the Cleaned for same strand GTF file with Gencode proteincoding genes: \\t\",\"/data/Mullen_1/Raza/scRNA/Genomes//reference_sources/cleanedForSenseStrand_LncBook_Version2.0__gencode.v32.gtf\")\n",
    "g, t, e=read_gtf_file(\"/data/Mullen_1/Raza/scRNA/Genomes//reference_sources/cleanedForSenseStrand_LncBook_Version2.0__gencode.v32.gtf\")\n",
    "printNumberOfGeneTranscriptsExons(g, t, e)\n",
    "\n"
   ]
  },
  {
   "cell_type": "code",
   "execution_count": 20,
   "metadata": {},
   "outputs": [
    {
     "name": "stdout",
     "output_type": "stream",
     "text": [
      ">>>>>>>>>>>>>>>>>>>>>>>>>>>>---------------Real test case----\n",
      ">>>>>>>>>>>>>>>>>>>>># case 9 from bug in real data. Produces two exons with same start and same end\n",
      ">>>>>>>>>>>>>>>>>>>>># case 10 from bug in real data. Start> end in the third generated exon\n",
      "Case , 1 :---------Multiple-\n",
      "[[1196875, 1196993], [1197286, 1197338], [1197575, 1197338]]\n",
      "-----------------------------------------------------------------------------\n"
     ]
    }
   ],
   "source": [
    "####### TEST CASES FOR THE SCRIPT ABOVE. WE HAVE THE TESTS FOR DUMMY AND REAL DATA BELOW.  \n",
    "# Test dumy data\n",
    "proteinCodingExons = [ [ 3000, 4000 ], [ 6000, 7000 ],[ 9000, 10000 ]]\n",
    "lncRNACases=[[3000,4000], # case 1\n",
    "             [3500,4000],# case 2\n",
    "             [2000,3500],# case 3\n",
    "             [9500,11000],# case 4\n",
    "             [2000,14000],# case 5\n",
    "             [3500,9500],# case 6\n",
    "             [2000,9500],# case 7\n",
    "             [3500,14000]# case 8\n",
    "]\n",
    "#testExonChoppingCalculation(proteinCodingExons,lncRNACases) \n",
    "\n",
    "# Real test case: chr10 100233231 100233443 HSALNG0080088 0 +\n",
    "proteinCodingExons = [ [ 100232298,100233371 ], [ 100232305,100233371 ],[ 100233110,100233371 ]]\n",
    "lncRNACases=[[100233231,100233443]]\n",
    "print(\">>>>>>>>>>>>>>>>>>>>>>>>>>>>---------------Real test case----\")\n",
    "#testExonChoppingCalculation(proteinCodingExons,lncRNACases) \n",
    "print(\">>>>>>>>>>>>>>>>>>>>># case 9 from bug in real data. Produces two exons with same start and same end\")\n",
    "proteinCodingExons = [ [ 1355004,1355345 ], [ 1355244,1355345 ],[ 1355244,1355512 ]]\n",
    "lncRNACases=[[1355263,1355391]]\n",
    "#testExonChoppingCalculation(proteinCodingExons,lncRNACases)\n",
    "print(\">>>>>>>>>>>>>>>>>>>>># case 10 from bug in real data. Start> end in the third generated exon\")\n",
    "proteinCodingExons = [ [ 1197093,1197186 ], [ 1197438,1197475 ],[1197438,1197933],[1197438,1197935]]\n",
    "lncRNACases=[[1196875,1197496]]\n",
    "testExonChoppingCalculation(proteinCodingExons,lncRNACases)\n",
    "\n"
   ]
  },
  {
   "cell_type": "code",
   "execution_count": null,
   "metadata": {},
   "outputs": [],
   "source": [
    "######################## Test Run Real Data Cleaning GTF For AntiSense Exons #####################\n",
    "# Some will be deleted and some will be updated.\n",
    "# Caution\n",
    "# 1. Delete transcript if all the exons is/are deleted\n",
    "# 2. Delete gene if all the transcript is/are deleted\n",
    "print(testCleanedSameStrandExonsGTFFile)\n",
    "# This testCasesAntiSenseExonsChoppedDf.csv is manually created to test the script\n",
    "# Gene 1. No updates, just write\n",
    "# Gene 2. Found but [0,0], meaning delete this completely\n",
    "# Gene 3. Update one Exon to one exon\n",
    "# Gene 4. Update one Exon to multiple exons\n",
    "# Gene 5. Update multiple exons of a single gene (one Exon to multiple exons)\n",
    "# Gene 6. Update multiple exons of a single gene (Update some and delete some)\n",
    "uniqueGeneIdsOverlappingAntisense=df.queryGeneId.unique().tolist()\n",
    "print(\"Number of genes to be deleted or updated, because of exon overlap on the anti-sense strand : \\t\",len(set(uniqueGeneIdsOverlappingAntisense)))\n",
    "\n",
    "print(\"---CleanedSameStrandGTF----\")\n",
    "CleanedSameStrandGenes, CleanedSameStrandTranscripts, CleanedSameStrandExons=read_gtf_file(testCleanedSameStrandExonsGTFFile)\n",
    "printNumberOfGeneTranscriptsExons(CleanedSameStrandGenes, CleanedSameStrandTranscripts, CleanedSameStrandExons)\n",
    "uniqueGeneIdsOverlappingAntisense=['HSALNG0000227','HSALNG0000002','HSALNG0000055','HSALNG0000060','HSALNG0000070','HSALNG0000137','HSALNG0000141']\n",
    "cleandAntiSenseOverlappingExons(uniqueGeneIdsOverlappingAntisense,CleanedSameStrandGenes)\n",
    "\n"
   ]
  },
  {
   "cell_type": "code",
   "execution_count": null,
   "metadata": {},
   "outputs": [],
   "source": []
  },
  {
   "cell_type": "code",
   "execution_count": null,
   "metadata": {},
   "outputs": [],
   "source": []
  }
 ],
 "metadata": {
  "celltoolbar": "Raw Cell Format",
  "kernelspec": {
   "display_name": "Python 3",
   "language": "python",
   "name": "python3"
  },
  "language_info": {
   "codemirror_mode": {
    "name": "ipython",
    "version": 3
   },
   "file_extension": ".py",
   "mimetype": "text/x-python",
   "name": "python",
   "nbconvert_exporter": "python",
   "pygments_lexer": "ipython3",
   "version": "3.6.3"
  }
 },
 "nbformat": 4,
 "nbformat_minor": 2
}
